{
 "cells": [
  {
   "cell_type": "code",
   "execution_count": 1,
   "id": "6fe42ef9",
   "metadata": {},
   "outputs": [],
   "source": [
    "from prettytable import PrettyTable\n",
    "import math"
   ]
  },
  {
   "cell_type": "code",
   "execution_count": 2,
   "id": "fa652bfb",
   "metadata": {},
   "outputs": [],
   "source": [
    "def precission(val):\n",
    "    return -math.floor(math.log10(abs(val))) - 1\n",
    "\n",
    "def relative_error(xr_new, xr_old):\n",
    "    return abs((xr_new - xr_old)/xr_new)\n",
    "\n",
    "def bisection(f, x_upper, x_lower, tolerance=0.0005):\n",
    "    assert x_lower < x_upper, \"x_lower should be smaller than x_upper\"\n",
    "    assert f(x_upper) * f(x_lower) < 0, \"f(xl) * f(xu) should be less than zero!\"\n",
    "    headers = ['#iteration', 'x_lower', 'x_upper', 'x_root', 'f(x_root)', 'error']\n",
    "    table = PrettyTable()\n",
    "    table.align = 'l'\n",
    "    table.field_names = headers\n",
    "    err = relative_error(x_upper, x_lower)\n",
    "    n_iteration = 0\n",
    "    while True:\n",
    "        n_iteration += 1\n",
    "        x_root = (x_upper + x_lower) / 2\n",
    "        table.add_row([n_iteration, x_lower, x_upper, x_root, f(x_root), err])\n",
    "        if err <= tolerance:    \n",
    "            print(table)\n",
    "            root = round(x_root, precission(f(x_root)))\n",
    "            print(f\"\\nSolution:\\n----------\\nRoot= {root} | relative error = {round(err*100, 5)}%\")\n",
    "            return root\n",
    "        \n",
    "        if f(x_root)*f(x_lower) < 0:\n",
    "            x_upper = x_root\n",
    "            err = relative_error(x_root, x_lower)\n",
    "        elif f(x_root) * f(x_lower) > 0:\n",
    "            x_lower = x_root\n",
    "            err = relative_error(x_root, x_upper)"
   ]
  },
  {
   "cell_type": "code",
   "execution_count": 3,
   "id": "4baccd89",
   "metadata": {},
   "outputs": [
    {
     "name": "stdout",
     "output_type": "stream",
     "text": [
      "+------------+----------------+--------------+-----------------+-------------------------+------------------------+\n",
      "| #iteration | x_lower        | x_upper      | x_root          | f(x_root)               | error                  |\n",
      "+------------+----------------+--------------+-----------------+-------------------------+------------------------+\n",
      "| 1          | 0              | 1            | 0.5             | -0.1756393646499359     | 1.0                    |\n",
      "| 2          | 0.5            | 1            | 0.75            | 0.5877500124595061      | 1.0                    |\n",
      "| 3          | 0.5            | 0.75         | 0.625           | 0.16765372339513895     | 0.3333333333333333     |\n",
      "| 4          | 0.5            | 0.625        | 0.5625          | -0.012781755459832067   | 0.2                    |\n",
      "| 5          | 0.5625         | 0.625        | 0.59375         | 0.07514235532088609     | 0.1111111111111111     |\n",
      "| 6          | 0.5625         | 0.59375      | 0.578125        | 0.030619243926830464    | 0.05263157894736842    |\n",
      "| 7          | 0.5625         | 0.578125     | 0.5703125       | 0.008779997268242967    | 0.02702702702702703    |\n",
      "| 8          | 0.5625         | 0.5703125    | 0.56640625      | -0.0020353778624728758  | 0.0136986301369863     |\n",
      "| 9          | 0.56640625     | 0.5703125    | 0.568359375     | 0.0033636615878054332   | 0.006896551724137931   |\n",
      "| 10         | 0.56640625     | 0.568359375  | 0.5673828125    | 0.0006619827663991718   | 0.003436426116838488   |\n",
      "| 11         | 0.56640625     | 0.5673828125 | 0.56689453125   | -0.0006872369559415281  | 0.0017211703958691911  |\n",
      "| 12         | 0.56689453125  | 0.5673828125 | 0.567138671875  | -1.2761992499665809e-05 | 0.0008613264427217916  |\n",
      "| 13         | 0.567138671875 | 0.5673828125 | 0.5672607421875 | 0.00032457665679719305  | 0.00043047783039173483 |\n",
      "+------------+----------------+--------------+-----------------+-------------------------+------------------------+\n",
      "\n",
      "Solution:\n",
      "----------\n",
      "Root= 0.567 | relative error = 0.04305%\n"
     ]
    }
   ],
   "source": [
    "def f(x):\n",
    "    return x*(math.e**x) - 1\n",
    "\n",
    "#f = lambda x:x**2-3\n",
    "r = bisection(f, 1, 0,tolerance=0.0005)"
   ]
  },
  {
   "cell_type": "code",
   "execution_count": null,
   "id": "69173710",
   "metadata": {},
   "outputs": [],
   "source": []
  }
 ],
 "metadata": {
  "kernelspec": {
   "display_name": "Python 3 (venvComputing)",
   "language": "python",
   "name": "python3-computing"
  },
  "language_info": {
   "codemirror_mode": {
    "name": "ipython",
    "version": 3
   },
   "file_extension": ".py",
   "mimetype": "text/x-python",
   "name": "python",
   "nbconvert_exporter": "python",
   "pygments_lexer": "ipython3",
   "version": "3.8.10"
  }
 },
 "nbformat": 4,
 "nbformat_minor": 5
}
